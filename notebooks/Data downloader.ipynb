{
 "cells": [
  {
   "cell_type": "markdown",
   "id": "d626f6a0",
   "metadata": {},
   "source": [
    "## Download GEE: Elevation and slope\n",
    "This script aims to download automatically Elevation and Slope data that match the images of the DRIVENDATA competition. Assuming that you have a google earth engine account, each image will be downloaded into a Google Drive folder of the same account."
   ]
  },
  {
   "cell_type": "code",
   "execution_count": 41,
   "id": "6f060195",
   "metadata": {},
   "outputs": [
    {
     "name": "stdout",
     "output_type": "stream",
     "text": [
      "0.1.279\n"
     ]
    }
   ],
   "source": [
    "import os\n",
    "from osgeo import gdal, ogr, osr\n",
    "import ee\n",
    "print(ee.__version__)\n",
    "from time import sleep"
   ]
  },
  {
   "cell_type": "code",
   "execution_count": 42,
   "id": "4fb8cb29",
   "metadata": {},
   "outputs": [],
   "source": [
    "ee.Initialize()"
   ]
  },
  {
   "cell_type": "markdown",
   "id": "28cc33f5",
   "metadata": {},
   "source": [
    "Defining path where images are located"
   ]
  },
  {
   "cell_type": "code",
   "execution_count": 43,
   "id": "c0d700f3",
   "metadata": {},
   "outputs": [],
   "source": [
    "path_root = r'D:\\DOCTORATE\\Competitions\\Drivendata\\data\\final\\public\\train_labels'\n",
    "folder_drive = 'Doctorate'"
   ]
  },
  {
   "cell_type": "markdown",
   "id": "05641fcb",
   "metadata": {},
   "source": [
    "Functions definition:"
   ]
  },
  {
   "cell_type": "code",
   "execution_count": 44,
   "id": "6909ba39",
   "metadata": {},
   "outputs": [],
   "source": [
    "def get_polygon(path):\n",
    "    #Getobject\n",
    "    rast_data_source = gdal.Open(path)\n",
    "    gt = rast_data_source.GetGeoTransform()\n",
    "    #Raster info\n",
    "    minx = gt[0]\n",
    "    maxy = gt[3]\n",
    "    maxx = minx + gt[1] * rast_data_source.RasterXSize\n",
    "    miny = maxy + gt[5] * rast_data_source.RasterYSize\n",
    "    wkt = f'POLYGON (({minx} {maxy},{maxx} {maxy},{maxx} {miny},{minx} {miny},{minx} {maxy}))'\n",
    "    poly = ogr.CreateGeometryFromWkt(wkt)\n",
    "    #spatial reference\n",
    "    native_projection = osr.SpatialReference()\n",
    "    native_projection.ImportFromWkt(rast_data_source.GetProjection())\n",
    "    target = osr.SpatialReference()\n",
    "    target.ImportFromEPSG(4326)\n",
    "    transform = osr.CoordinateTransformation(native_projection, target)\n",
    "    poly.Transform(transform)\n",
    "    #get reprojected coordinates\n",
    "    pt = []\n",
    "    for fea in range(poly.GetGeometryRef(0).GetPointCount()):\n",
    "        lat,long,h = poly.GetGeometryRef(0).GetPoint(fea)\n",
    "        pt.append([long,lat])\n",
    "    #Create an ee.Geometry\n",
    "    polygon = ee.Geometry.Polygon(pt)\n",
    "    #reference system number of source layer\n",
    "    Epsg = native_projection.GetAttrValue(\"AUTHORITY\", 0)+\":\" + native_projection.GetAttrValue(\"AUTHORITY\", 1) \n",
    "    rast_data_source = None\n",
    "    return polygon, Epsg\n",
    "    \n",
    "def get_gee_elevation(name_file,polygon, Epsg):\n",
    "    #get DEM layer\n",
    "    elevation = ee.Image(\"USGS/SRTMGL1_003\").select('elevation').clip(polygon)\n",
    "    elevation1 = elevation.resample('bilinear').reproject(crs=Epsg, scale=10)\n",
    "    \n",
    "    #save data\n",
    "    task_config = {\n",
    "        'folder': folder_drive,\n",
    "        'fileFormat': 'GeoTIFF',\n",
    "        'region' : polygon,\n",
    "        'dimensions': 512\n",
    "    }\n",
    "    name_file_inf = name_file + \"_dem\"\n",
    "    task = ee.batch.Export.image.toDrive(elevation1, name_file_inf, **task_config)\n",
    "    task.start()\n",
    "    k = 1\n",
    "    #sleep loop until data is downloaded\n",
    "    while task.status()['state'] == 'COMPLETED':\n",
    "        sleep(5)\n",
    "        k += 1\n",
    "        print(f'Iteration Elevation: {k}')\n",
    "    elevation = None\n",
    "    task = None\n",
    "\n",
    "#Here, images are downloade in 16 bits\n",
    "def get_gee_slope(name_file,polygon, Epsg):\n",
    "    #get Slope layer\n",
    "    elevation = ee.Image(\"USGS/SRTMGL1_003\").select('elevation').clip(polygon)\n",
    "    slope = ee.Terrain.slope(elevation)\n",
    "    slope1 = slope.resample('bilinear').reproject(crs=Epsg, scale=10).multiply(10).toShort() \n",
    "    #save data\n",
    "    task_config = {\n",
    "        'folder': folder_drive,\n",
    "        'fileFormat': 'GeoTIFF',\n",
    "        'region' : polygon,\n",
    "        'dimensions': 512\n",
    "    }\n",
    "    name_file_inf = name_file + \"_slp\"\n",
    "    task = ee.batch.Export.image.toDrive(slope1, name_file_inf, **task_config)\n",
    "    task.start()\n",
    "    k = 1\n",
    "    #sleep loop until data is downloaded\n",
    "    while task.status()['state'] == 'COMPLETED':\n",
    "        sleep(5)\n",
    "        k += 1\n",
    "        print(f'Iteration slope: {k}')\n",
    "    slope1 = None\n",
    "    task = None"
   ]
  },
  {
   "cell_type": "markdown",
   "id": "33ac4ad6",
   "metadata": {},
   "source": [
    "Iteration through image files"
   ]
  },
  {
   "cell_type": "code",
   "execution_count": null,
   "id": "a157b188",
   "metadata": {},
   "outputs": [
    {
     "name": "stdout",
     "output_type": "stream",
     "text": [
      "Done with image awc00\n",
      "Done with image awc01\n",
      "Done with image awc02\n",
      "Done with image awc03\n"
     ]
    }
   ],
   "source": [
    "for i in os.listdir(path_root):\n",
    "    if i.endswith('.tif'):\n",
    "        path = os.path.join(path_root,i)\n",
    "        polygon, Epsg = get_polygon(path)\n",
    "        #get DEM\n",
    "        name_file = i.split('.tif')[0]\n",
    "        get_gee_elevation(name_file, polygon, Epsg)\n",
    "        #get Slope\n",
    "        get_gee_slope(name_file, polygon, Epsg)\n",
    "        print(f'Done with image {name_file}')"
   ]
  }
 ],
 "metadata": {
  "kernelspec": {
   "display_name": "Python 3",
   "language": "python",
   "name": "python3"
  },
  "language_info": {
   "codemirror_mode": {
    "name": "ipython",
    "version": 3
   },
   "file_extension": ".py",
   "mimetype": "text/x-python",
   "name": "python",
   "nbconvert_exporter": "python",
   "pygments_lexer": "ipython3",
   "version": "3.6.13"
  }
 },
 "nbformat": 4,
 "nbformat_minor": 5
}
